{
 "cells": [
  {
   "cell_type": "markdown",
   "metadata": {
    "_cell_guid": "b1076dfc-b9ad-4769-8c92-a6c4dae69d19",
    "_uuid": "8f2839f25d086af736a60e9eeb907d3b93b6e0e5"
   },
   "source": [
    "# Importing libraries"
   ]
  },
  {
   "cell_type": "code",
   "execution_count": 1,
   "metadata": {
    "execution": {
     "iopub.execute_input": "2024-05-26T18:35:15.591449Z",
     "iopub.status.busy": "2024-05-26T18:35:15.590983Z",
     "iopub.status.idle": "2024-05-26T18:35:34.859091Z",
     "shell.execute_reply": "2024-05-26T18:35:34.857342Z",
     "shell.execute_reply.started": "2024-05-26T18:35:15.591409Z"
    }
   },
   "outputs": [],
   "source": [
    "import numpy as np\n",
    "import pandas as pd\n",
    "import matplotlib.pyplot as plt\n",
    "import seaborn as sns\n",
    "\n",
    "from sklearn.linear_model import LogisticRegression\n",
    "from sklearn.svm import SVC\n",
    "from sklearn.neighbors import KNeighborsClassifier\n",
    "from sklearn.tree import DecisionTreeClassifier\n",
    "from sklearn.ensemble import RandomForestClassifier\n",
    "\n",
    "from sklearn.preprocessing import MinMaxScaler\n",
    "from sklearn.model_selection import train_test_split, RandomizedSearchCV, GridSearchCV\n",
    "from sklearn.model_selection  import cross_val_score\n",
    "from imblearn.over_sampling import SMOTE\n",
    "from sklearn.metrics import precision_score, recall_score, f1_score, mean_squared_error\n",
    "from sklearn.metrics import accuracy_score, classification_report, confusion_matrix\n",
    "\n",
    "from sklearn.cluster import KMeans\n",
    "\n",
    "from tensorflow import keras\n",
    "from tensorflow.keras.models import Sequential\n",
    "from tensorflow.keras.layers import Dense,Dropout\n",
    "\n",
    "import warnings\n",
    "warnings.filterwarnings(\"ignore\")"
   ]
  },
  {
   "cell_type": "markdown",
   "metadata": {},
   "source": [
    "# Preprocessing"
   ]
  },
  {
   "cell_type": "code",
   "execution_count": 2,
   "metadata": {
    "execution": {
     "iopub.execute_input": "2024-05-26T18:35:47.093415Z",
     "iopub.status.busy": "2024-05-26T18:35:47.092955Z",
     "iopub.status.idle": "2024-05-26T18:35:52.719779Z",
     "shell.execute_reply": "2024-05-26T18:35:52.718354Z",
     "shell.execute_reply.started": "2024-05-26T18:35:47.093380Z"
    }
   },
   "outputs": [
    {
     "data": {
      "text/html": [
       "<div>\n",
       "<style scoped>\n",
       "    .dataframe tbody tr th:only-of-type {\n",
       "        vertical-align: middle;\n",
       "    }\n",
       "\n",
       "    .dataframe tbody tr th {\n",
       "        vertical-align: top;\n",
       "    }\n",
       "\n",
       "    .dataframe thead th {\n",
       "        text-align: right;\n",
       "    }\n",
       "</style>\n",
       "<table border=\"1\" class=\"dataframe\">\n",
       "  <thead>\n",
       "    <tr style=\"text-align: right;\">\n",
       "      <th></th>\n",
       "      <th>Time</th>\n",
       "      <th>V1</th>\n",
       "      <th>V2</th>\n",
       "      <th>V3</th>\n",
       "      <th>V4</th>\n",
       "      <th>V5</th>\n",
       "      <th>V6</th>\n",
       "      <th>V7</th>\n",
       "      <th>V8</th>\n",
       "      <th>V9</th>\n",
       "      <th>...</th>\n",
       "      <th>V21</th>\n",
       "      <th>V22</th>\n",
       "      <th>V23</th>\n",
       "      <th>V24</th>\n",
       "      <th>V25</th>\n",
       "      <th>V26</th>\n",
       "      <th>V27</th>\n",
       "      <th>V28</th>\n",
       "      <th>Amount</th>\n",
       "      <th>Class</th>\n",
       "    </tr>\n",
       "  </thead>\n",
       "  <tbody>\n",
       "    <tr>\n",
       "      <th>0</th>\n",
       "      <td>0.0</td>\n",
       "      <td>-1.359807</td>\n",
       "      <td>-0.072781</td>\n",
       "      <td>2.536347</td>\n",
       "      <td>1.378155</td>\n",
       "      <td>-0.338321</td>\n",
       "      <td>0.462388</td>\n",
       "      <td>0.239599</td>\n",
       "      <td>0.098698</td>\n",
       "      <td>0.363787</td>\n",
       "      <td>...</td>\n",
       "      <td>-0.018307</td>\n",
       "      <td>0.277838</td>\n",
       "      <td>-0.110474</td>\n",
       "      <td>0.066928</td>\n",
       "      <td>0.128539</td>\n",
       "      <td>-0.189115</td>\n",
       "      <td>0.133558</td>\n",
       "      <td>-0.021053</td>\n",
       "      <td>149.62</td>\n",
       "      <td>0</td>\n",
       "    </tr>\n",
       "    <tr>\n",
       "      <th>1</th>\n",
       "      <td>0.0</td>\n",
       "      <td>1.191857</td>\n",
       "      <td>0.266151</td>\n",
       "      <td>0.166480</td>\n",
       "      <td>0.448154</td>\n",
       "      <td>0.060018</td>\n",
       "      <td>-0.082361</td>\n",
       "      <td>-0.078803</td>\n",
       "      <td>0.085102</td>\n",
       "      <td>-0.255425</td>\n",
       "      <td>...</td>\n",
       "      <td>-0.225775</td>\n",
       "      <td>-0.638672</td>\n",
       "      <td>0.101288</td>\n",
       "      <td>-0.339846</td>\n",
       "      <td>0.167170</td>\n",
       "      <td>0.125895</td>\n",
       "      <td>-0.008983</td>\n",
       "      <td>0.014724</td>\n",
       "      <td>2.69</td>\n",
       "      <td>0</td>\n",
       "    </tr>\n",
       "    <tr>\n",
       "      <th>2</th>\n",
       "      <td>1.0</td>\n",
       "      <td>-1.358354</td>\n",
       "      <td>-1.340163</td>\n",
       "      <td>1.773209</td>\n",
       "      <td>0.379780</td>\n",
       "      <td>-0.503198</td>\n",
       "      <td>1.800499</td>\n",
       "      <td>0.791461</td>\n",
       "      <td>0.247676</td>\n",
       "      <td>-1.514654</td>\n",
       "      <td>...</td>\n",
       "      <td>0.247998</td>\n",
       "      <td>0.771679</td>\n",
       "      <td>0.909412</td>\n",
       "      <td>-0.689281</td>\n",
       "      <td>-0.327642</td>\n",
       "      <td>-0.139097</td>\n",
       "      <td>-0.055353</td>\n",
       "      <td>-0.059752</td>\n",
       "      <td>378.66</td>\n",
       "      <td>0</td>\n",
       "    </tr>\n",
       "    <tr>\n",
       "      <th>3</th>\n",
       "      <td>1.0</td>\n",
       "      <td>-0.966272</td>\n",
       "      <td>-0.185226</td>\n",
       "      <td>1.792993</td>\n",
       "      <td>-0.863291</td>\n",
       "      <td>-0.010309</td>\n",
       "      <td>1.247203</td>\n",
       "      <td>0.237609</td>\n",
       "      <td>0.377436</td>\n",
       "      <td>-1.387024</td>\n",
       "      <td>...</td>\n",
       "      <td>-0.108300</td>\n",
       "      <td>0.005274</td>\n",
       "      <td>-0.190321</td>\n",
       "      <td>-1.175575</td>\n",
       "      <td>0.647376</td>\n",
       "      <td>-0.221929</td>\n",
       "      <td>0.062723</td>\n",
       "      <td>0.061458</td>\n",
       "      <td>123.50</td>\n",
       "      <td>0</td>\n",
       "    </tr>\n",
       "    <tr>\n",
       "      <th>4</th>\n",
       "      <td>2.0</td>\n",
       "      <td>-1.158233</td>\n",
       "      <td>0.877737</td>\n",
       "      <td>1.548718</td>\n",
       "      <td>0.403034</td>\n",
       "      <td>-0.407193</td>\n",
       "      <td>0.095921</td>\n",
       "      <td>0.592941</td>\n",
       "      <td>-0.270533</td>\n",
       "      <td>0.817739</td>\n",
       "      <td>...</td>\n",
       "      <td>-0.009431</td>\n",
       "      <td>0.798278</td>\n",
       "      <td>-0.137458</td>\n",
       "      <td>0.141267</td>\n",
       "      <td>-0.206010</td>\n",
       "      <td>0.502292</td>\n",
       "      <td>0.219422</td>\n",
       "      <td>0.215153</td>\n",
       "      <td>69.99</td>\n",
       "      <td>0</td>\n",
       "    </tr>\n",
       "    <tr>\n",
       "      <th>...</th>\n",
       "      <td>...</td>\n",
       "      <td>...</td>\n",
       "      <td>...</td>\n",
       "      <td>...</td>\n",
       "      <td>...</td>\n",
       "      <td>...</td>\n",
       "      <td>...</td>\n",
       "      <td>...</td>\n",
       "      <td>...</td>\n",
       "      <td>...</td>\n",
       "      <td>...</td>\n",
       "      <td>...</td>\n",
       "      <td>...</td>\n",
       "      <td>...</td>\n",
       "      <td>...</td>\n",
       "      <td>...</td>\n",
       "      <td>...</td>\n",
       "      <td>...</td>\n",
       "      <td>...</td>\n",
       "      <td>...</td>\n",
       "      <td>...</td>\n",
       "    </tr>\n",
       "    <tr>\n",
       "      <th>284802</th>\n",
       "      <td>172786.0</td>\n",
       "      <td>-11.881118</td>\n",
       "      <td>10.071785</td>\n",
       "      <td>-9.834783</td>\n",
       "      <td>-2.066656</td>\n",
       "      <td>-5.364473</td>\n",
       "      <td>-2.606837</td>\n",
       "      <td>-4.918215</td>\n",
       "      <td>7.305334</td>\n",
       "      <td>1.914428</td>\n",
       "      <td>...</td>\n",
       "      <td>0.213454</td>\n",
       "      <td>0.111864</td>\n",
       "      <td>1.014480</td>\n",
       "      <td>-0.509348</td>\n",
       "      <td>1.436807</td>\n",
       "      <td>0.250034</td>\n",
       "      <td>0.943651</td>\n",
       "      <td>0.823731</td>\n",
       "      <td>0.77</td>\n",
       "      <td>0</td>\n",
       "    </tr>\n",
       "    <tr>\n",
       "      <th>284803</th>\n",
       "      <td>172787.0</td>\n",
       "      <td>-0.732789</td>\n",
       "      <td>-0.055080</td>\n",
       "      <td>2.035030</td>\n",
       "      <td>-0.738589</td>\n",
       "      <td>0.868229</td>\n",
       "      <td>1.058415</td>\n",
       "      <td>0.024330</td>\n",
       "      <td>0.294869</td>\n",
       "      <td>0.584800</td>\n",
       "      <td>...</td>\n",
       "      <td>0.214205</td>\n",
       "      <td>0.924384</td>\n",
       "      <td>0.012463</td>\n",
       "      <td>-1.016226</td>\n",
       "      <td>-0.606624</td>\n",
       "      <td>-0.395255</td>\n",
       "      <td>0.068472</td>\n",
       "      <td>-0.053527</td>\n",
       "      <td>24.79</td>\n",
       "      <td>0</td>\n",
       "    </tr>\n",
       "    <tr>\n",
       "      <th>284804</th>\n",
       "      <td>172788.0</td>\n",
       "      <td>1.919565</td>\n",
       "      <td>-0.301254</td>\n",
       "      <td>-3.249640</td>\n",
       "      <td>-0.557828</td>\n",
       "      <td>2.630515</td>\n",
       "      <td>3.031260</td>\n",
       "      <td>-0.296827</td>\n",
       "      <td>0.708417</td>\n",
       "      <td>0.432454</td>\n",
       "      <td>...</td>\n",
       "      <td>0.232045</td>\n",
       "      <td>0.578229</td>\n",
       "      <td>-0.037501</td>\n",
       "      <td>0.640134</td>\n",
       "      <td>0.265745</td>\n",
       "      <td>-0.087371</td>\n",
       "      <td>0.004455</td>\n",
       "      <td>-0.026561</td>\n",
       "      <td>67.88</td>\n",
       "      <td>0</td>\n",
       "    </tr>\n",
       "    <tr>\n",
       "      <th>284805</th>\n",
       "      <td>172788.0</td>\n",
       "      <td>-0.240440</td>\n",
       "      <td>0.530483</td>\n",
       "      <td>0.702510</td>\n",
       "      <td>0.689799</td>\n",
       "      <td>-0.377961</td>\n",
       "      <td>0.623708</td>\n",
       "      <td>-0.686180</td>\n",
       "      <td>0.679145</td>\n",
       "      <td>0.392087</td>\n",
       "      <td>...</td>\n",
       "      <td>0.265245</td>\n",
       "      <td>0.800049</td>\n",
       "      <td>-0.163298</td>\n",
       "      <td>0.123205</td>\n",
       "      <td>-0.569159</td>\n",
       "      <td>0.546668</td>\n",
       "      <td>0.108821</td>\n",
       "      <td>0.104533</td>\n",
       "      <td>10.00</td>\n",
       "      <td>0</td>\n",
       "    </tr>\n",
       "    <tr>\n",
       "      <th>284806</th>\n",
       "      <td>172792.0</td>\n",
       "      <td>-0.533413</td>\n",
       "      <td>-0.189733</td>\n",
       "      <td>0.703337</td>\n",
       "      <td>-0.506271</td>\n",
       "      <td>-0.012546</td>\n",
       "      <td>-0.649617</td>\n",
       "      <td>1.577006</td>\n",
       "      <td>-0.414650</td>\n",
       "      <td>0.486180</td>\n",
       "      <td>...</td>\n",
       "      <td>0.261057</td>\n",
       "      <td>0.643078</td>\n",
       "      <td>0.376777</td>\n",
       "      <td>0.008797</td>\n",
       "      <td>-0.473649</td>\n",
       "      <td>-0.818267</td>\n",
       "      <td>-0.002415</td>\n",
       "      <td>0.013649</td>\n",
       "      <td>217.00</td>\n",
       "      <td>0</td>\n",
       "    </tr>\n",
       "  </tbody>\n",
       "</table>\n",
       "<p>284807 rows × 31 columns</p>\n",
       "</div>"
      ],
      "text/plain": [
       "            Time         V1         V2        V3        V4        V5  \\\n",
       "0            0.0  -1.359807  -0.072781  2.536347  1.378155 -0.338321   \n",
       "1            0.0   1.191857   0.266151  0.166480  0.448154  0.060018   \n",
       "2            1.0  -1.358354  -1.340163  1.773209  0.379780 -0.503198   \n",
       "3            1.0  -0.966272  -0.185226  1.792993 -0.863291 -0.010309   \n",
       "4            2.0  -1.158233   0.877737  1.548718  0.403034 -0.407193   \n",
       "...          ...        ...        ...       ...       ...       ...   \n",
       "284802  172786.0 -11.881118  10.071785 -9.834783 -2.066656 -5.364473   \n",
       "284803  172787.0  -0.732789  -0.055080  2.035030 -0.738589  0.868229   \n",
       "284804  172788.0   1.919565  -0.301254 -3.249640 -0.557828  2.630515   \n",
       "284805  172788.0  -0.240440   0.530483  0.702510  0.689799 -0.377961   \n",
       "284806  172792.0  -0.533413  -0.189733  0.703337 -0.506271 -0.012546   \n",
       "\n",
       "              V6        V7        V8        V9  ...       V21       V22  \\\n",
       "0       0.462388  0.239599  0.098698  0.363787  ... -0.018307  0.277838   \n",
       "1      -0.082361 -0.078803  0.085102 -0.255425  ... -0.225775 -0.638672   \n",
       "2       1.800499  0.791461  0.247676 -1.514654  ...  0.247998  0.771679   \n",
       "3       1.247203  0.237609  0.377436 -1.387024  ... -0.108300  0.005274   \n",
       "4       0.095921  0.592941 -0.270533  0.817739  ... -0.009431  0.798278   \n",
       "...          ...       ...       ...       ...  ...       ...       ...   \n",
       "284802 -2.606837 -4.918215  7.305334  1.914428  ...  0.213454  0.111864   \n",
       "284803  1.058415  0.024330  0.294869  0.584800  ...  0.214205  0.924384   \n",
       "284804  3.031260 -0.296827  0.708417  0.432454  ...  0.232045  0.578229   \n",
       "284805  0.623708 -0.686180  0.679145  0.392087  ...  0.265245  0.800049   \n",
       "284806 -0.649617  1.577006 -0.414650  0.486180  ...  0.261057  0.643078   \n",
       "\n",
       "             V23       V24       V25       V26       V27       V28  Amount  \\\n",
       "0      -0.110474  0.066928  0.128539 -0.189115  0.133558 -0.021053  149.62   \n",
       "1       0.101288 -0.339846  0.167170  0.125895 -0.008983  0.014724    2.69   \n",
       "2       0.909412 -0.689281 -0.327642 -0.139097 -0.055353 -0.059752  378.66   \n",
       "3      -0.190321 -1.175575  0.647376 -0.221929  0.062723  0.061458  123.50   \n",
       "4      -0.137458  0.141267 -0.206010  0.502292  0.219422  0.215153   69.99   \n",
       "...          ...       ...       ...       ...       ...       ...     ...   \n",
       "284802  1.014480 -0.509348  1.436807  0.250034  0.943651  0.823731    0.77   \n",
       "284803  0.012463 -1.016226 -0.606624 -0.395255  0.068472 -0.053527   24.79   \n",
       "284804 -0.037501  0.640134  0.265745 -0.087371  0.004455 -0.026561   67.88   \n",
       "284805 -0.163298  0.123205 -0.569159  0.546668  0.108821  0.104533   10.00   \n",
       "284806  0.376777  0.008797 -0.473649 -0.818267 -0.002415  0.013649  217.00   \n",
       "\n",
       "        Class  \n",
       "0           0  \n",
       "1           0  \n",
       "2           0  \n",
       "3           0  \n",
       "4           0  \n",
       "...       ...  \n",
       "284802      0  \n",
       "284803      0  \n",
       "284804      0  \n",
       "284805      0  \n",
       "284806      0  \n",
       "\n",
       "[284807 rows x 31 columns]"
      ]
     },
     "execution_count": 2,
     "metadata": {},
     "output_type": "execute_result"
    }
   ],
   "source": [
    "data= pd.read_csv('creditcard.csv')\n",
    "data"
   ]
  },
  {
   "cell_type": "code",
   "execution_count": 3,
   "metadata": {
    "execution": {
     "iopub.execute_input": "2024-05-25T10:04:43.411191Z",
     "iopub.status.busy": "2024-05-25T10:04:43.410727Z",
     "iopub.status.idle": "2024-05-25T10:04:43.878356Z",
     "shell.execute_reply": "2024-05-25T10:04:43.877101Z",
     "shell.execute_reply.started": "2024-05-25T10:04:43.411153Z"
    }
   },
   "outputs": [
    {
     "data": {
      "text/html": [
       "<div>\n",
       "<style scoped>\n",
       "    .dataframe tbody tr th:only-of-type {\n",
       "        vertical-align: middle;\n",
       "    }\n",
       "\n",
       "    .dataframe tbody tr th {\n",
       "        vertical-align: top;\n",
       "    }\n",
       "\n",
       "    .dataframe thead th {\n",
       "        text-align: right;\n",
       "    }\n",
       "</style>\n",
       "<table border=\"1\" class=\"dataframe\">\n",
       "  <thead>\n",
       "    <tr style=\"text-align: right;\">\n",
       "      <th></th>\n",
       "      <th>Time</th>\n",
       "      <th>V1</th>\n",
       "      <th>V2</th>\n",
       "      <th>V3</th>\n",
       "      <th>V4</th>\n",
       "      <th>V5</th>\n",
       "      <th>V6</th>\n",
       "      <th>V7</th>\n",
       "      <th>V8</th>\n",
       "      <th>V9</th>\n",
       "      <th>...</th>\n",
       "      <th>V21</th>\n",
       "      <th>V22</th>\n",
       "      <th>V23</th>\n",
       "      <th>V24</th>\n",
       "      <th>V25</th>\n",
       "      <th>V26</th>\n",
       "      <th>V27</th>\n",
       "      <th>V28</th>\n",
       "      <th>Amount</th>\n",
       "      <th>Class</th>\n",
       "    </tr>\n",
       "  </thead>\n",
       "  <tbody>\n",
       "    <tr>\n",
       "      <th>count</th>\n",
       "      <td>284807.000000</td>\n",
       "      <td>2.848070e+05</td>\n",
       "      <td>2.848070e+05</td>\n",
       "      <td>2.848070e+05</td>\n",
       "      <td>2.848070e+05</td>\n",
       "      <td>2.848070e+05</td>\n",
       "      <td>2.848070e+05</td>\n",
       "      <td>2.848070e+05</td>\n",
       "      <td>2.848070e+05</td>\n",
       "      <td>2.848070e+05</td>\n",
       "      <td>...</td>\n",
       "      <td>2.848070e+05</td>\n",
       "      <td>2.848070e+05</td>\n",
       "      <td>2.848070e+05</td>\n",
       "      <td>2.848070e+05</td>\n",
       "      <td>2.848070e+05</td>\n",
       "      <td>2.848070e+05</td>\n",
       "      <td>2.848070e+05</td>\n",
       "      <td>2.848070e+05</td>\n",
       "      <td>284807.000000</td>\n",
       "      <td>284807.000000</td>\n",
       "    </tr>\n",
       "    <tr>\n",
       "      <th>mean</th>\n",
       "      <td>94813.859575</td>\n",
       "      <td>1.168375e-15</td>\n",
       "      <td>3.416908e-16</td>\n",
       "      <td>-1.379537e-15</td>\n",
       "      <td>2.074095e-15</td>\n",
       "      <td>9.604066e-16</td>\n",
       "      <td>1.487313e-15</td>\n",
       "      <td>-5.556467e-16</td>\n",
       "      <td>1.213481e-16</td>\n",
       "      <td>-2.406331e-15</td>\n",
       "      <td>...</td>\n",
       "      <td>1.654067e-16</td>\n",
       "      <td>-3.568593e-16</td>\n",
       "      <td>2.578648e-16</td>\n",
       "      <td>4.473266e-15</td>\n",
       "      <td>5.340915e-16</td>\n",
       "      <td>1.683437e-15</td>\n",
       "      <td>-3.660091e-16</td>\n",
       "      <td>-1.227390e-16</td>\n",
       "      <td>88.349619</td>\n",
       "      <td>0.001727</td>\n",
       "    </tr>\n",
       "    <tr>\n",
       "      <th>std</th>\n",
       "      <td>47488.145955</td>\n",
       "      <td>1.958696e+00</td>\n",
       "      <td>1.651309e+00</td>\n",
       "      <td>1.516255e+00</td>\n",
       "      <td>1.415869e+00</td>\n",
       "      <td>1.380247e+00</td>\n",
       "      <td>1.332271e+00</td>\n",
       "      <td>1.237094e+00</td>\n",
       "      <td>1.194353e+00</td>\n",
       "      <td>1.098632e+00</td>\n",
       "      <td>...</td>\n",
       "      <td>7.345240e-01</td>\n",
       "      <td>7.257016e-01</td>\n",
       "      <td>6.244603e-01</td>\n",
       "      <td>6.056471e-01</td>\n",
       "      <td>5.212781e-01</td>\n",
       "      <td>4.822270e-01</td>\n",
       "      <td>4.036325e-01</td>\n",
       "      <td>3.300833e-01</td>\n",
       "      <td>250.120109</td>\n",
       "      <td>0.041527</td>\n",
       "    </tr>\n",
       "    <tr>\n",
       "      <th>min</th>\n",
       "      <td>0.000000</td>\n",
       "      <td>-5.640751e+01</td>\n",
       "      <td>-7.271573e+01</td>\n",
       "      <td>-4.832559e+01</td>\n",
       "      <td>-5.683171e+00</td>\n",
       "      <td>-1.137433e+02</td>\n",
       "      <td>-2.616051e+01</td>\n",
       "      <td>-4.355724e+01</td>\n",
       "      <td>-7.321672e+01</td>\n",
       "      <td>-1.343407e+01</td>\n",
       "      <td>...</td>\n",
       "      <td>-3.483038e+01</td>\n",
       "      <td>-1.093314e+01</td>\n",
       "      <td>-4.480774e+01</td>\n",
       "      <td>-2.836627e+00</td>\n",
       "      <td>-1.029540e+01</td>\n",
       "      <td>-2.604551e+00</td>\n",
       "      <td>-2.256568e+01</td>\n",
       "      <td>-1.543008e+01</td>\n",
       "      <td>0.000000</td>\n",
       "      <td>0.000000</td>\n",
       "    </tr>\n",
       "    <tr>\n",
       "      <th>25%</th>\n",
       "      <td>54201.500000</td>\n",
       "      <td>-9.203734e-01</td>\n",
       "      <td>-5.985499e-01</td>\n",
       "      <td>-8.903648e-01</td>\n",
       "      <td>-8.486401e-01</td>\n",
       "      <td>-6.915971e-01</td>\n",
       "      <td>-7.682956e-01</td>\n",
       "      <td>-5.540759e-01</td>\n",
       "      <td>-2.086297e-01</td>\n",
       "      <td>-6.430976e-01</td>\n",
       "      <td>...</td>\n",
       "      <td>-2.283949e-01</td>\n",
       "      <td>-5.423504e-01</td>\n",
       "      <td>-1.618463e-01</td>\n",
       "      <td>-3.545861e-01</td>\n",
       "      <td>-3.171451e-01</td>\n",
       "      <td>-3.269839e-01</td>\n",
       "      <td>-7.083953e-02</td>\n",
       "      <td>-5.295979e-02</td>\n",
       "      <td>5.600000</td>\n",
       "      <td>0.000000</td>\n",
       "    </tr>\n",
       "    <tr>\n",
       "      <th>50%</th>\n",
       "      <td>84692.000000</td>\n",
       "      <td>1.810880e-02</td>\n",
       "      <td>6.548556e-02</td>\n",
       "      <td>1.798463e-01</td>\n",
       "      <td>-1.984653e-02</td>\n",
       "      <td>-5.433583e-02</td>\n",
       "      <td>-2.741871e-01</td>\n",
       "      <td>4.010308e-02</td>\n",
       "      <td>2.235804e-02</td>\n",
       "      <td>-5.142873e-02</td>\n",
       "      <td>...</td>\n",
       "      <td>-2.945017e-02</td>\n",
       "      <td>6.781943e-03</td>\n",
       "      <td>-1.119293e-02</td>\n",
       "      <td>4.097606e-02</td>\n",
       "      <td>1.659350e-02</td>\n",
       "      <td>-5.213911e-02</td>\n",
       "      <td>1.342146e-03</td>\n",
       "      <td>1.124383e-02</td>\n",
       "      <td>22.000000</td>\n",
       "      <td>0.000000</td>\n",
       "    </tr>\n",
       "    <tr>\n",
       "      <th>75%</th>\n",
       "      <td>139320.500000</td>\n",
       "      <td>1.315642e+00</td>\n",
       "      <td>8.037239e-01</td>\n",
       "      <td>1.027196e+00</td>\n",
       "      <td>7.433413e-01</td>\n",
       "      <td>6.119264e-01</td>\n",
       "      <td>3.985649e-01</td>\n",
       "      <td>5.704361e-01</td>\n",
       "      <td>3.273459e-01</td>\n",
       "      <td>5.971390e-01</td>\n",
       "      <td>...</td>\n",
       "      <td>1.863772e-01</td>\n",
       "      <td>5.285536e-01</td>\n",
       "      <td>1.476421e-01</td>\n",
       "      <td>4.395266e-01</td>\n",
       "      <td>3.507156e-01</td>\n",
       "      <td>2.409522e-01</td>\n",
       "      <td>9.104512e-02</td>\n",
       "      <td>7.827995e-02</td>\n",
       "      <td>77.165000</td>\n",
       "      <td>0.000000</td>\n",
       "    </tr>\n",
       "    <tr>\n",
       "      <th>max</th>\n",
       "      <td>172792.000000</td>\n",
       "      <td>2.454930e+00</td>\n",
       "      <td>2.205773e+01</td>\n",
       "      <td>9.382558e+00</td>\n",
       "      <td>1.687534e+01</td>\n",
       "      <td>3.480167e+01</td>\n",
       "      <td>7.330163e+01</td>\n",
       "      <td>1.205895e+02</td>\n",
       "      <td>2.000721e+01</td>\n",
       "      <td>1.559499e+01</td>\n",
       "      <td>...</td>\n",
       "      <td>2.720284e+01</td>\n",
       "      <td>1.050309e+01</td>\n",
       "      <td>2.252841e+01</td>\n",
       "      <td>4.584549e+00</td>\n",
       "      <td>7.519589e+00</td>\n",
       "      <td>3.517346e+00</td>\n",
       "      <td>3.161220e+01</td>\n",
       "      <td>3.384781e+01</td>\n",
       "      <td>25691.160000</td>\n",
       "      <td>1.000000</td>\n",
       "    </tr>\n",
       "  </tbody>\n",
       "</table>\n",
       "<p>8 rows × 31 columns</p>\n",
       "</div>"
      ],
      "text/plain": [
       "                Time            V1            V2            V3            V4  \\\n",
       "count  284807.000000  2.848070e+05  2.848070e+05  2.848070e+05  2.848070e+05   \n",
       "mean    94813.859575  1.168375e-15  3.416908e-16 -1.379537e-15  2.074095e-15   \n",
       "std     47488.145955  1.958696e+00  1.651309e+00  1.516255e+00  1.415869e+00   \n",
       "min         0.000000 -5.640751e+01 -7.271573e+01 -4.832559e+01 -5.683171e+00   \n",
       "25%     54201.500000 -9.203734e-01 -5.985499e-01 -8.903648e-01 -8.486401e-01   \n",
       "50%     84692.000000  1.810880e-02  6.548556e-02  1.798463e-01 -1.984653e-02   \n",
       "75%    139320.500000  1.315642e+00  8.037239e-01  1.027196e+00  7.433413e-01   \n",
       "max    172792.000000  2.454930e+00  2.205773e+01  9.382558e+00  1.687534e+01   \n",
       "\n",
       "                 V5            V6            V7            V8            V9  \\\n",
       "count  2.848070e+05  2.848070e+05  2.848070e+05  2.848070e+05  2.848070e+05   \n",
       "mean   9.604066e-16  1.487313e-15 -5.556467e-16  1.213481e-16 -2.406331e-15   \n",
       "std    1.380247e+00  1.332271e+00  1.237094e+00  1.194353e+00  1.098632e+00   \n",
       "min   -1.137433e+02 -2.616051e+01 -4.355724e+01 -7.321672e+01 -1.343407e+01   \n",
       "25%   -6.915971e-01 -7.682956e-01 -5.540759e-01 -2.086297e-01 -6.430976e-01   \n",
       "50%   -5.433583e-02 -2.741871e-01  4.010308e-02  2.235804e-02 -5.142873e-02   \n",
       "75%    6.119264e-01  3.985649e-01  5.704361e-01  3.273459e-01  5.971390e-01   \n",
       "max    3.480167e+01  7.330163e+01  1.205895e+02  2.000721e+01  1.559499e+01   \n",
       "\n",
       "       ...           V21           V22           V23           V24  \\\n",
       "count  ...  2.848070e+05  2.848070e+05  2.848070e+05  2.848070e+05   \n",
       "mean   ...  1.654067e-16 -3.568593e-16  2.578648e-16  4.473266e-15   \n",
       "std    ...  7.345240e-01  7.257016e-01  6.244603e-01  6.056471e-01   \n",
       "min    ... -3.483038e+01 -1.093314e+01 -4.480774e+01 -2.836627e+00   \n",
       "25%    ... -2.283949e-01 -5.423504e-01 -1.618463e-01 -3.545861e-01   \n",
       "50%    ... -2.945017e-02  6.781943e-03 -1.119293e-02  4.097606e-02   \n",
       "75%    ...  1.863772e-01  5.285536e-01  1.476421e-01  4.395266e-01   \n",
       "max    ...  2.720284e+01  1.050309e+01  2.252841e+01  4.584549e+00   \n",
       "\n",
       "                V25           V26           V27           V28         Amount  \\\n",
       "count  2.848070e+05  2.848070e+05  2.848070e+05  2.848070e+05  284807.000000   \n",
       "mean   5.340915e-16  1.683437e-15 -3.660091e-16 -1.227390e-16      88.349619   \n",
       "std    5.212781e-01  4.822270e-01  4.036325e-01  3.300833e-01     250.120109   \n",
       "min   -1.029540e+01 -2.604551e+00 -2.256568e+01 -1.543008e+01       0.000000   \n",
       "25%   -3.171451e-01 -3.269839e-01 -7.083953e-02 -5.295979e-02       5.600000   \n",
       "50%    1.659350e-02 -5.213911e-02  1.342146e-03  1.124383e-02      22.000000   \n",
       "75%    3.507156e-01  2.409522e-01  9.104512e-02  7.827995e-02      77.165000   \n",
       "max    7.519589e+00  3.517346e+00  3.161220e+01  3.384781e+01   25691.160000   \n",
       "\n",
       "               Class  \n",
       "count  284807.000000  \n",
       "mean        0.001727  \n",
       "std         0.041527  \n",
       "min         0.000000  \n",
       "25%         0.000000  \n",
       "50%         0.000000  \n",
       "75%         0.000000  \n",
       "max         1.000000  \n",
       "\n",
       "[8 rows x 31 columns]"
      ]
     },
     "execution_count": 3,
     "metadata": {},
     "output_type": "execute_result"
    }
   ],
   "source": [
    "data.describe()"
   ]
  },
  {
   "cell_type": "code",
   "execution_count": 4,
   "metadata": {
    "execution": {
     "iopub.execute_input": "2024-05-25T10:04:46.185636Z",
     "iopub.status.busy": "2024-05-25T10:04:46.185273Z",
     "iopub.status.idle": "2024-05-25T10:04:46.208397Z",
     "shell.execute_reply": "2024-05-25T10:04:46.206991Z",
     "shell.execute_reply.started": "2024-05-25T10:04:46.185609Z"
    }
   },
   "outputs": [
    {
     "data": {
      "text/plain": [
       "0"
      ]
     },
     "execution_count": 4,
     "metadata": {},
     "output_type": "execute_result"
    }
   ],
   "source": [
    "data.isnull().sum().sum()"
   ]
  },
  {
   "cell_type": "code",
   "execution_count": 5,
   "metadata": {
    "execution": {
     "iopub.execute_input": "2024-05-24T16:04:05.934066Z",
     "iopub.status.busy": "2024-05-24T16:04:05.933653Z",
     "iopub.status.idle": "2024-05-24T16:04:05.947911Z",
     "shell.execute_reply": "2024-05-24T16:04:05.946702Z",
     "shell.execute_reply.started": "2024-05-24T16:04:05.934034Z"
    }
   },
   "outputs": [
    {
     "name": "stdout",
     "output_type": "stream",
     "text": [
      "No Frauds 99.83 % of the dataset\n",
      "Frauds 0.17 % of the dataset\n"
     ]
    }
   ],
   "source": [
    "print('No Frauds', round(data['Class'].value_counts()[0]/len(data) * 100,2), '% of the dataset')\n",
    "print('Frauds', round(data['Class'].value_counts()[1]/len(data) * 100,2), '% of the dataset')"
   ]
  },
  {
   "cell_type": "code",
   "execution_count": 6,
   "metadata": {
    "execution": {
     "iopub.execute_input": "2024-05-24T16:08:08.046016Z",
     "iopub.status.busy": "2024-05-24T16:08:08.045543Z",
     "iopub.status.idle": "2024-05-24T16:08:08.308748Z",
     "shell.execute_reply": "2024-05-24T16:08:08.307689Z",
     "shell.execute_reply.started": "2024-05-24T16:08:08.045958Z"
    }
   },
   "outputs": [
    {
     "data": {
      "text/plain": [
       "Text(0.5, 1.0, 'Class Distributions \\n (0: No Fraud || 1: Fraud)')"
      ]
     },
     "execution_count": 6,
     "metadata": {},
     "output_type": "execute_result"
    },
    {
     "data": {
      "image/png": "[encoded data removed]",
      "text/plain": [
       "<Figure size 640x480 with 1 Axes>"
      ]
     },
     "metadata": {},
     "output_type": "display_data"
    }
   ],
   "source": [
    "sns.countplot(x='Class',data = data)\n",
    "plt.title('Class Distributions \\n (0: No Fraud || 1: Fraud)', fontsize=14)"
   ]
  },
  {
   "cell_type": "code",
   "execution_count": 7,
   "metadata": {
    "execution": {
     "iopub.execute_input": "2024-05-24T16:09:09.760664Z",
     "iopub.status.busy": "2024-05-24T16:09:09.759707Z",
     "iopub.status.idle": "2024-05-24T16:09:09.775830Z",
     "shell.execute_reply": "2024-05-24T16:09:09.774546Z",
     "shell.execute_reply.started": "2024-05-24T16:09:09.760621Z"
    }
   },
   "outputs": [],
   "source": [
    "tmp = data[['Amount','Class']].copy()\n",
    "class_0 = tmp.loc[tmp['Class'] == 0]['Amount']\n",
    "class_1 = tmp.loc[tmp['Class'] == 1]['Amount']"
   ]
  },
  {
   "cell_type": "code",
   "execution_count": 8,
   "metadata": {
    "execution": {
     "iopub.execute_input": "2024-05-24T16:09:16.097254Z",
     "iopub.status.busy": "2024-05-24T16:09:16.096854Z",
     "iopub.status.idle": "2024-05-24T16:09:16.120733Z",
     "shell.execute_reply": "2024-05-24T16:09:16.119453Z",
     "shell.execute_reply.started": "2024-05-24T16:09:16.097225Z"
    }
   },
   "outputs": [
    {
     "data": {
      "text/plain": [
       "count    284315.000000\n",
       "mean         88.291022\n",
       "std         250.105092\n",
       "min           0.000000\n",
       "25%           5.650000\n",
       "50%          22.000000\n",
       "75%          77.050000\n",
       "max       25691.160000\n",
       "Name: Amount, dtype: float64"
      ]
     },
     "execution_count": 8,
     "metadata": {},
     "output_type": "execute_result"
    }
   ],
   "source": [
    "class_0.describe()"
   ]
  },
  {
   "cell_type": "code",
   "execution_count": 9,
   "metadata": {
    "execution": {
     "iopub.execute_input": "2024-05-24T16:09:21.878737Z",
     "iopub.status.busy": "2024-05-24T16:09:21.878339Z",
     "iopub.status.idle": "2024-05-24T16:09:21.890400Z",
     "shell.execute_reply": "2024-05-24T16:09:21.888958Z",
     "shell.execute_reply.started": "2024-05-24T16:09:21.878709Z"
    }
   },
   "outputs": [
    {
     "data": {
      "text/plain": [
       "count     492.000000\n",
       "mean      122.211321\n",
       "std       256.683288\n",
       "min         0.000000\n",
       "25%         1.000000\n",
       "50%         9.250000\n",
       "75%       105.890000\n",
       "max      2125.870000\n",
       "Name: Amount, dtype: float64"
      ]
     },
     "execution_count": 9,
     "metadata": {},
     "output_type": "execute_result"
    }
   ],
   "source": [
    "class_1.describe()"
   ]
  },
  {
   "cell_type": "code",
   "execution_count": 10,
   "metadata": {
    "execution": {
     "iopub.execute_input": "2024-05-24T16:09:33.185147Z",
     "iopub.status.busy": "2024-05-24T16:09:33.184108Z",
     "iopub.status.idle": "2024-05-24T16:09:33.190620Z",
     "shell.execute_reply": "2024-05-24T16:09:33.189204Z",
     "shell.execute_reply.started": "2024-05-24T16:09:33.185089Z"
    }
   },
   "outputs": [],
   "source": [
    "# The real transaction have a larger mean value, larger Q1, smaller Q3 and Q4 and larger outliers; fraudulent transactions have a smaller Q1 and mean, larger Q4 and smaller outliers."
   ]
  },
  {
   "cell_type": "code",
   "execution_count": 11,
   "metadata": {
    "execution": {
     "iopub.execute_input": "2024-05-24T16:09:50.412219Z",
     "iopub.status.busy": "2024-05-24T16:09:50.411769Z",
     "iopub.status.idle": "2024-05-24T16:09:51.608025Z",
     "shell.execute_reply": "2024-05-24T16:09:51.606858Z",
     "shell.execute_reply.started": "2024-05-24T16:09:50.412179Z"
    }
   },
   "outputs": [
    {
     "data": {
      "image/png": "[encoded data removed]",
      "text/plain": [
       "<Figure size 640x480 with 2 Axes>"
      ]
     },
     "metadata": {},
     "output_type": "display_data"
    }
   ],
   "source": [
    "dataplot = sns.heatmap(data.corr(), cmap=\"Blues\") \n",
    "plt.show() "
   ]
  },
  {
   "cell_type": "code",
   "execution_count": 12,
   "metadata": {
    "execution": {
     "iopub.execute_input": "2024-05-26T18:36:00.897688Z",
     "iopub.status.busy": "2024-05-26T18:36:00.897186Z",
     "iopub.status.idle": "2024-05-26T18:36:00.943706Z",
     "shell.execute_reply": "2024-05-26T18:36:00.942025Z",
     "shell.execute_reply.started": "2024-05-26T18:36:00.897650Z"
    }
   },
   "outputs": [],
   "source": [
    "X = data.drop(\"Class\", axis=1)\n",
    "y = data['Class']"
   ]
  },
  {
   "cell_type": "code",
   "execution_count": 13,
   "metadata": {
    "execution": {
     "iopub.execute_input": "2024-05-26T18:36:01.609509Z",
     "iopub.status.busy": "2024-05-26T18:36:01.608269Z",
     "iopub.status.idle": "2024-05-26T18:36:01.739945Z",
     "shell.execute_reply": "2024-05-26T18:36:01.738399Z",
     "shell.execute_reply.started": "2024-05-26T18:36:01.609437Z"
    }
   },
   "outputs": [
    {
     "data": {
      "text/plain": [
       "array([[0.00000000e+00, 9.35192337e-01, 7.66490419e-01, ...,\n",
       "        4.18976135e-01, 3.12696634e-01, 5.82379309e-03],\n",
       "       [0.00000000e+00, 9.78541955e-01, 7.70066651e-01, ...,\n",
       "        4.16345145e-01, 3.13422663e-01, 1.04705276e-04],\n",
       "       [5.78730497e-06, 9.35217023e-01, 7.53117667e-01, ...,\n",
       "        4.15489266e-01, 3.11911316e-01, 1.47389219e-02],\n",
       "       ...,\n",
       "       [9.99976851e-01, 9.90904812e-01, 7.64079694e-01, ...,\n",
       "        4.16593177e-01, 3.12584864e-01, 2.64215395e-03],\n",
       "       [9.99976851e-01, 9.54208999e-01, 7.72855742e-01, ...,\n",
       "        4.18519535e-01, 3.15245157e-01, 3.89238944e-04],\n",
       "       [1.00000000e+00, 9.49231759e-01, 7.65256401e-01, ...,\n",
       "        4.16466371e-01, 3.13400843e-01, 8.44648509e-03]])"
      ]
     },
     "execution_count": 13,
     "metadata": {},
     "output_type": "execute_result"
    }
   ],
   "source": [
    "scaler = MinMaxScaler()\n",
    "X = scaler.fit_transform(X)\n",
    "X"
   ]
  },
  {
   "cell_type": "code",
   "execution_count": 14,
   "metadata": {
    "execution": {
     "iopub.execute_input": "2024-05-26T18:36:02.223116Z",
     "iopub.status.busy": "2024-05-26T18:36:02.222689Z",
     "iopub.status.idle": "2024-05-26T18:36:02.561673Z",
     "shell.execute_reply": "2024-05-26T18:36:02.560412Z",
     "shell.execute_reply.started": "2024-05-26T18:36:02.223084Z"
    }
   },
   "outputs": [],
   "source": [
    "X_train, X_test, y_train, y_test = train_test_split(X,y,random_state=42,test_size=0.2,stratify=y)"
   ]
  },
  {
   "cell_type": "code",
   "execution_count": 15,
   "metadata": {
    "execution": {
     "iopub.execute_input": "2024-05-26T18:36:03.525651Z",
     "iopub.status.busy": "2024-05-26T18:36:03.525155Z",
     "iopub.status.idle": "2024-05-26T18:36:03.545576Z",
     "shell.execute_reply": "2024-05-26T18:36:03.544648Z",
     "shell.execute_reply.started": "2024-05-26T18:36:03.525612Z"
    }
   },
   "outputs": [
    {
     "data": {
      "text/plain": [
       "0    227451\n",
       "1       394\n",
       "Name: Class, dtype: int64"
      ]
     },
     "execution_count": 15,
     "metadata": {},
     "output_type": "execute_result"
    }
   ],
   "source": [
    "y_train.value_counts()"
   ]
  },
  {
   "cell_type": "code",
   "execution_count": 16,
   "metadata": {
    "execution": {
     "iopub.execute_input": "2024-05-26T18:36:04.180132Z",
     "iopub.status.busy": "2024-05-26T18:36:04.179456Z",
     "iopub.status.idle": "2024-05-26T18:36:04.573807Z",
     "shell.execute_reply": "2024-05-26T18:36:04.572594Z",
     "shell.execute_reply.started": "2024-05-26T18:36:04.180096Z"
    }
   },
   "outputs": [],
   "source": [
    "smote = SMOTE(random_state=0)\n",
    "\n",
    "X_train, y_train = smote.fit_resample(X_train,y_train)\n",
    "X_test, y_test = smote.fit_resample(X_test,y_test)"
   ]
  },
  {
   "cell_type": "code",
   "execution_count": 17,
   "metadata": {
    "execution": {
     "iopub.execute_input": "2024-05-26T18:36:04.895325Z",
     "iopub.status.busy": "2024-05-26T18:36:04.894927Z",
     "iopub.status.idle": "2024-05-26T18:36:04.909465Z",
     "shell.execute_reply": "2024-05-26T18:36:04.908107Z",
     "shell.execute_reply.started": "2024-05-26T18:36:04.895295Z"
    }
   },
   "outputs": [
    {
     "data": {
      "text/plain": [
       "0    227451\n",
       "1    227451\n",
       "Name: Class, dtype: int64"
      ]
     },
     "execution_count": 17,
     "metadata": {},
     "output_type": "execute_result"
    }
   ],
   "source": [
    "y_train.value_counts()"
   ]
  },
  {
   "cell_type": "markdown",
   "metadata": {},
   "source": [
    "# Model"
   ]
  },
  {
   "cell_type": "code",
   "execution_count": 18,
   "metadata": {
    "execution": {
     "iopub.execute_input": "2024-05-26T18:36:07.354358Z",
     "iopub.status.busy": "2024-05-26T18:36:07.353962Z",
     "iopub.status.idle": "2024-05-26T18:36:07.361007Z",
     "shell.execute_reply": "2024-05-26T18:36:07.359775Z",
     "shell.execute_reply.started": "2024-05-26T18:36:07.354330Z"
    }
   },
   "outputs": [],
   "source": [
    "def evaluate(model):\n",
    "  model.fit(X_train,y_train)\n",
    "  pre = model.predict(X_test)\n",
    "    \n",
    "  accuracy = accuracy_score(pre,y_test)\n",
    "  recall = recall_score(pre,y_test)\n",
    "  f1 = f1_score(pre,y_test)\n",
    "\n",
    "  sns.heatmap(confusion_matrix(pre,y_test),annot=True)\n",
    "  print(model)\n",
    "  print('Accuracy : ',accuracy,'Recall : ',recall,\"F1 : \",f1)"
   ]
  },
  {
   "cell_type": "code",
   "execution_count": 19,
   "metadata": {
    "execution": {
     "iopub.execute_input": "2024-05-24T16:43:51.132478Z",
     "iopub.status.busy": "2024-05-24T16:43:51.132035Z",
     "iopub.status.idle": "2024-05-24T16:43:51.137939Z",
     "shell.execute_reply": "2024-05-24T16:43:51.136736Z",
     "shell.execute_reply.started": "2024-05-24T16:43:51.132447Z"
    }
   },
   "outputs": [],
   "source": [
    "model_LR = LogisticRegression()"
   ]
  },
  {
   "cell_type": "code",
   "execution_count": 20,
   "metadata": {
    "execution": {
     "iopub.execute_input": "2024-05-24T16:47:06.488812Z",
     "iopub.status.busy": "2024-05-24T16:47:06.488342Z",
     "iopub.status.idle": "2024-05-24T16:48:38.427885Z",
     "shell.execute_reply": "2024-05-24T16:48:38.426709Z",
     "shell.execute_reply.started": "2024-05-24T16:47:06.488778Z"
    }
   },
   "outputs": [
    {
     "name": "stdout",
     "output_type": "stream",
     "text": [
      "tuned hpyerparameters :(best parameters)  {'C': 1000.0, 'penalty': 'l2'}\n",
      "accuracy : 0.991256493728213\n"
     ]
    }
   ],
   "source": [
    "#perform cross validation\n",
    "\n",
    "grid={\"C\":np.logspace(-3,3,7), \"penalty\":[\"l2\"]}  # l2 ridge\n",
    "\n",
    "clf_lsr_cv = GridSearchCV(model_LR,grid,cv=3,scoring='roc_auc')\n",
    "clf_lsr_cv.fit(X_train,y_train)\n",
    "\n",
    "print(\"tuned hpyerparameters :(best parameters) \",clf_lsr_cv.best_params_)\n",
    "print(\"accuracy :\",clf_lsr_cv.best_score_)"
   ]
  },
  {
   "cell_type": "code",
   "execution_count": 21,
   "metadata": {
    "execution": {
     "iopub.execute_input": "2024-05-24T16:53:57.134609Z",
     "iopub.status.busy": "2024-05-24T16:53:57.133346Z",
     "iopub.status.idle": "2024-05-24T16:54:10.126443Z",
     "shell.execute_reply": "2024-05-24T16:54:10.125073Z",
     "shell.execute_reply.started": "2024-05-24T16:53:57.134569Z"
    }
   },
   "outputs": [
    {
     "name": "stdout",
     "output_type": "stream",
     "text": [
      "LogisticRegression(C=1000.0, random_state=42)\n",
      "Accuracy :  0.9452289673607203 Recall :  0.971716569469546 F1 :  0.9436468087031258\n"
     ]
    },
    {
     "data": {
      "image/png": "[encoded data removed]",
      "text/plain": [
       "<Figure size 640x480 with 2 Axes>"
      ]
     },
     "metadata": {},
     "output_type": "display_data"
    }
   ],
   "source": [
    "# Fitting the model with best parameters .\n",
    "\n",
    "lsr_best = LogisticRegression(penalty='l2',C=1000.0,random_state = 42)\n",
    "lsr_clf = lsr_best.fit(X_train,y_train)\n",
    "evaluate(lsr_clf)"
   ]
  },
  {
   "cell_type": "code",
   "execution_count": 22,
   "metadata": {},
   "outputs": [],
   "source": [
    "model_KNN = KNeighborsClassifier()"
   ]
  },
  {
   "cell_type": "code",
   "execution_count": 23,
   "metadata": {
    "execution": {
     "iopub.execute_input": "2024-05-24T18:34:37.471072Z",
     "iopub.status.busy": "2024-05-24T18:34:37.470639Z",
     "iopub.status.idle": "2024-05-24T19:38:35.924808Z",
     "shell.execute_reply": "2024-05-24T19:38:35.923142Z",
     "shell.execute_reply.started": "2024-05-24T18:34:37.471040Z"
    }
   },
   "outputs": [],
   "source": [
    "k_range = np.arange(1, 20, 2)\n",
    "scores = [] #to store cross val score for each k\n",
    "for k in k_range:\n",
    "  model_KNN  = KNeighborsClassifier(n_neighbors=k)\n",
    "  model_KNN .fit(X_train,y_train)\n",
    "  score = cross_val_score(model_KNN , X_train, y_train, cv=3, n_jobs = -1)\n",
    "  scores.append(score.mean())\n",
    "\n",
    "#Storing the mean squared error to decide optimum k\n",
    "mse = [1-x for x in scores]"
   ]
  },
  {
   "cell_type": "code",
   "execution_count": 24,
   "metadata": {
    "execution": {
     "iopub.execute_input": "2024-05-24T19:41:20.951299Z",
     "iopub.status.busy": "2024-05-24T19:41:20.950872Z",
     "iopub.status.idle": "2024-05-24T19:41:21.441530Z",
     "shell.execute_reply": "2024-05-24T19:41:21.440070Z",
     "shell.execute_reply.started": "2024-05-24T19:41:20.951269Z"
    }
   },
   "outputs": [
    {
     "data": {
      "image/png": "[encoded data removed]",
      "text/plain": [
       "<Figure size 2000x800 with 2 Axes>"
      ]
     },
     "metadata": {},
     "output_type": "display_data"
    }
   ],
   "source": [
    "plt.figure(figsize=(20,8))\n",
    "plt.subplot(121)\n",
    "sns.lineplot(x=k_range,y=mse,markers=True,dashes=False)\n",
    "plt.xlabel(\"Value of K\")\n",
    "plt.ylabel(\"Mean Squared Error\")\n",
    "plt.subplot(122)\n",
    "sns.lineplot(x=k_range,y=scores,markers=True,dashes=False)\n",
    "plt.xlabel(\"Value of K\")\n",
    "plt.ylabel(\"Cross Validation Accuracy\")\n",
    "\n",
    "plt.show()"
   ]
  },
  {
   "cell_type": "code",
   "execution_count": 25,
   "metadata": {
    "execution": {
     "iopub.execute_input": "2024-05-24T19:52:13.788083Z",
     "iopub.status.busy": "2024-05-24T19:52:13.787651Z",
     "iopub.status.idle": "2024-05-24T19:54:26.125481Z",
     "shell.execute_reply": "2024-05-24T19:54:26.124441Z",
     "shell.execute_reply.started": "2024-05-24T19:52:13.788043Z"
    }
   },
   "outputs": [
    {
     "name": "stdout",
     "output_type": "stream",
     "text": [
      "KNeighborsClassifier(n_neighbors=3)\n",
      "Accuracy :  0.927335396736072 Recall :  0.998911838377202 F1 :  0.9217201856588045\n"
     ]
    },
    {
     "data": {
      "image/png": "[encoded data removed]",
      "text/plain": [
       "<Figure size 640x480 with 2 Axes>"
      ]
     },
     "metadata": {},
     "output_type": "display_data"
    }
   ],
   "source": [
    "knn = KNeighborsClassifier(n_neighbors=3)\n",
    "\n",
    "knn_clf = knn.fit(X_train,y_train)\n",
    "\n",
    "evaluate(knn_clf)"
   ]
  },
  {
   "cell_type": "code",
   "execution_count": 26,
   "metadata": {
    "execution": {
     "iopub.execute_input": "2024-05-24T17:54:11.015451Z",
     "iopub.status.busy": "2024-05-24T17:54:11.014995Z",
     "iopub.status.idle": "2024-05-24T17:54:11.021072Z",
     "shell.execute_reply": "2024-05-24T17:54:11.019664Z",
     "shell.execute_reply.started": "2024-05-24T17:54:11.015420Z"
    }
   },
   "outputs": [],
   "source": [
    "model_RFC = RandomForestClassifier()"
   ]
  },
  {
   "cell_type": "code",
   "execution_count": 27,
   "metadata": {
    "execution": {
     "iopub.execute_input": "2024-05-24T17:54:11.964621Z",
     "iopub.status.busy": "2024-05-24T17:54:11.964195Z",
     "iopub.status.idle": "2024-05-24T18:27:56.351109Z",
     "shell.execute_reply": "2024-05-24T18:27:56.349618Z",
     "shell.execute_reply.started": "2024-05-24T17:54:11.964589Z"
    }
   },
   "outputs": [
    {
     "name": "stdout",
     "output_type": "stream",
     "text": [
      "tuned hpyerparameters :(best parameters)  {'max_depth': 9, 'n_estimators': 50}\n",
      "accuracy : 0.9992199265041393\n"
     ]
    }
   ],
   "source": [
    "# Using grid search cv to find the best parameters.\n",
    "\n",
    "param = {'n_estimators': [10, 20, 30, 40, 50], 'max_depth': [2, 3, 4, 7, 9]}\n",
    "clf_rfc_cv = GridSearchCV(model_RFC, param, cv=5,scoring='roc_auc', n_jobs=-1)\n",
    "clf_rfc_cv.fit(X_train,y_train)\n",
    "\n",
    "print(\"tuned hpyerparameters :(best parameters) \",clf_rfc_cv.best_params_)\n",
    "print(\"accuracy :\",clf_rfc_cv.best_score_)\n"
   ]
  },
  {
   "cell_type": "code",
   "execution_count": 29,
   "metadata": {
    "execution": {
     "iopub.execute_input": "2024-05-24T18:28:50.944930Z",
     "iopub.status.busy": "2024-05-24T18:28:50.944496Z",
     "iopub.status.idle": "2024-05-24T18:34:00.518339Z",
     "shell.execute_reply": "2024-05-24T18:34:00.517075Z",
     "shell.execute_reply.started": "2024-05-24T18:28:50.944892Z"
    }
   },
   "outputs": [
    {
     "name": "stdout",
     "output_type": "stream",
     "text": [
      "RandomForestClassifier(max_depth=9, n_estimators=50)\n",
      "Accuracy :  0.9442089898705683 Recall :  0.996442679978774 F1 :  0.9411109564248922\n"
     ]
    },
    {
     "data": {
      "image/png": "[encoded data removed]",
      "text/plain": [
       "<Figure size 640x480 with 2 Axes>"
      ]
     },
     "metadata": {},
     "output_type": "display_data"
    }
   ],
   "source": [
    "#Fitting model \n",
    "\n",
    "rf = RandomForestClassifier(max_depth=9, n_estimators=50)\n",
    "RFC_clf = rf.fit(X_train,y_train)\n",
    "\n",
    "evaluate(RFC_clf)"
   ]
  },
  {
   "cell_type": "code",
   "execution_count": 31,
   "metadata": {
    "execution": {
     "iopub.execute_input": "2024-05-25T10:05:53.196716Z",
     "iopub.status.busy": "2024-05-25T10:05:53.196347Z",
     "iopub.status.idle": "2024-05-25T10:05:53.320194Z",
     "shell.execute_reply": "2024-05-25T10:05:53.319088Z",
     "shell.execute_reply.started": "2024-05-25T10:05:53.196688Z"
    }
   },
   "outputs": [
    {
     "name": "stdout",
     "output_type": "stream",
     "text": [
      "Model: \"sequential\"\n",
      "_________________________________________________________________\n",
      " Layer (type)                Output Shape              Param #   \n",
      "=================================================================\n",
      " dense (Dense)               (None, 32)                992       \n",
      "                                                                 \n",
      " dense_1 (Dense)             (None, 16)                528       \n",
      "                                                                 \n",
      " dense_2 (Dense)             (None, 8)                 136       \n",
      "                                                                 \n",
      " dense_3 (Dense)             (None, 1)                 9         \n",
      "                                                                 \n",
      "=================================================================\n",
      "Total params: 1665 (6.50 KB)\n",
      "Trainable params: 1665 (6.50 KB)\n",
      "Non-trainable params: 0 (0.00 Byte)\n",
      "_________________________________________________________________\n"
     ]
    }
   ],
   "source": [
    "model_ANN = Sequential([\n",
    "    Dense(32, activation='relu', input_dim=X_train.shape[1]),\n",
    "\n",
    "    Dense(16, activation='relu'),\n",
    "  \n",
    "    Dense(8, activation='relu'),\n",
    "\n",
    "    Dense(1, activation='sigmoid')\n",
    "])\n",
    "\n",
    "model_ANN.compile(optimizer='adam', loss='binary_crossentropy', metrics=['accuracy'])\n",
    "model_ANN.summary()"
   ]
  },
  {
   "cell_type": "code",
   "execution_count": 32,
   "metadata": {
    "execution": {
     "iopub.execute_input": "2024-05-25T10:05:54.705915Z",
     "iopub.status.busy": "2024-05-25T10:05:54.705532Z",
     "iopub.status.idle": "2024-05-25T10:17:40.661093Z",
     "shell.execute_reply": "2024-05-25T10:17:40.659919Z",
     "shell.execute_reply.started": "2024-05-25T10:05:54.705885Z"
    }
   },
   "outputs": [
    {
     "name": "stdout",
     "output_type": "stream",
     "text": [
      "Epoch 1/50\n",
      "5687/5687 [==============================] - 3s 505us/step - loss: 0.1562 - accuracy: 0.9388 - val_loss: 0.1437 - val_accuracy: 0.9275\n",
      "Epoch 2/50\n",
      "5687/5687 [==============================] - 3s 482us/step - loss: 0.1238 - accuracy: 0.9514 - val_loss: 0.2165 - val_accuracy: 0.8995\n",
      "Epoch 3/50\n",
      "5687/5687 [==============================] - 3s 476us/step - loss: 0.1142 - accuracy: 0.9547 - val_loss: 0.2421 - val_accuracy: 0.8903\n",
      "Epoch 4/50\n",
      "5687/5687 [==============================] - 3s 485us/step - loss: 0.1061 - accuracy: 0.9577 - val_loss: 0.1354 - val_accuracy: 0.9320\n",
      "Epoch 5/50\n",
      "5687/5687 [==============================] - 3s 481us/step - loss: 0.1014 - accuracy: 0.9599 - val_loss: 0.0812 - val_accuracy: 0.9605\n",
      "Epoch 6/50\n",
      "5687/5687 [==============================] - 3s 482us/step - loss: 0.0974 - accuracy: 0.9620 - val_loss: 0.1211 - val_accuracy: 0.9408\n",
      "Epoch 7/50\n",
      "5687/5687 [==============================] - 3s 482us/step - loss: 0.0904 - accuracy: 0.9643 - val_loss: 0.1689 - val_accuracy: 0.9263\n",
      "Epoch 8/50\n",
      "5687/5687 [==============================] - 3s 495us/step - loss: 0.0840 - accuracy: 0.9661 - val_loss: 0.0797 - val_accuracy: 0.9618\n",
      "Epoch 9/50\n",
      "5687/5687 [==============================] - 3s 489us/step - loss: 0.0748 - accuracy: 0.9693 - val_loss: 0.1240 - val_accuracy: 0.9428\n",
      "Epoch 10/50\n",
      "5687/5687 [==============================] - 3s 486us/step - loss: 0.0680 - accuracy: 0.9720 - val_loss: 0.0646 - val_accuracy: 0.9724\n",
      "Epoch 11/50\n",
      "5687/5687 [==============================] - 3s 488us/step - loss: 0.0633 - accuracy: 0.9741 - val_loss: 0.1355 - val_accuracy: 0.9367\n",
      "Epoch 12/50\n",
      "5687/5687 [==============================] - 3s 489us/step - loss: 0.0583 - accuracy: 0.9761 - val_loss: 0.0842 - val_accuracy: 0.9634\n",
      "Epoch 13/50\n",
      "5687/5687 [==============================] - 3s 492us/step - loss: 0.0549 - accuracy: 0.9776 - val_loss: 0.0379 - val_accuracy: 0.9874\n",
      "Epoch 14/50\n",
      "5687/5687 [==============================] - 3s 491us/step - loss: 0.0511 - accuracy: 0.9791 - val_loss: 0.0786 - val_accuracy: 0.9671\n",
      "Epoch 15/50\n",
      "5687/5687 [==============================] - 3s 500us/step - loss: 0.0476 - accuracy: 0.9808 - val_loss: 0.0759 - val_accuracy: 0.9689\n",
      "Epoch 16/50\n",
      "5687/5687 [==============================] - 3s 490us/step - loss: 0.0456 - accuracy: 0.9816 - val_loss: 0.0317 - val_accuracy: 0.9886\n",
      "Epoch 17/50\n",
      "5687/5687 [==============================] - 3s 487us/step - loss: 0.0424 - accuracy: 0.9829 - val_loss: 0.0434 - val_accuracy: 0.9861\n",
      "Epoch 18/50\n",
      "5687/5687 [==============================] - 3s 488us/step - loss: 0.0401 - accuracy: 0.9840 - val_loss: 0.0490 - val_accuracy: 0.9798\n",
      "Epoch 19/50\n",
      "5687/5687 [==============================] - 3s 510us/step - loss: 0.0384 - accuracy: 0.9846 - val_loss: 0.0242 - val_accuracy: 0.9933\n",
      "Epoch 20/50\n",
      "5687/5687 [==============================] - 3s 492us/step - loss: 0.0369 - accuracy: 0.9854 - val_loss: 0.0505 - val_accuracy: 0.9801\n",
      "Epoch 21/50\n",
      "5687/5687 [==============================] - 3s 494us/step - loss: 0.0359 - accuracy: 0.9860 - val_loss: 0.0506 - val_accuracy: 0.9775\n",
      "Epoch 22/50\n",
      "5687/5687 [==============================] - 3s 490us/step - loss: 0.0351 - accuracy: 0.9864 - val_loss: 0.1309 - val_accuracy: 0.9492\n",
      "Epoch 23/50\n",
      "5687/5687 [==============================] - 3s 493us/step - loss: 0.0338 - accuracy: 0.9870 - val_loss: 0.1020 - val_accuracy: 0.9574\n",
      "Epoch 24/50\n",
      "5687/5687 [==============================] - 3s 494us/step - loss: 0.0330 - accuracy: 0.9875 - val_loss: 0.0534 - val_accuracy: 0.9776\n",
      "Epoch 25/50\n",
      "5687/5687 [==============================] - 3s 497us/step - loss: 0.0324 - accuracy: 0.9876 - val_loss: 0.0309 - val_accuracy: 0.9917\n",
      "Epoch 26/50\n",
      "5687/5687 [==============================] - 3s 498us/step - loss: 0.0310 - accuracy: 0.9884 - val_loss: 0.0612 - val_accuracy: 0.9735\n",
      "Epoch 27/50\n",
      "5687/5687 [==============================] - 3s 497us/step - loss: 0.0307 - accuracy: 0.9884 - val_loss: 0.0249 - val_accuracy: 0.9952\n",
      "Epoch 28/50\n",
      "5687/5687 [==============================] - 3s 497us/step - loss: 0.0295 - accuracy: 0.9888 - val_loss: 0.0156 - val_accuracy: 0.9988\n",
      "Epoch 29/50\n",
      "5687/5687 [==============================] - 3s 497us/step - loss: 0.0294 - accuracy: 0.9891 - val_loss: 0.0560 - val_accuracy: 0.9787\n",
      "Epoch 30/50\n",
      "5687/5687 [==============================] - 3s 496us/step - loss: 0.0292 - accuracy: 0.9894 - val_loss: 0.0341 - val_accuracy: 0.9895\n",
      "Epoch 31/50\n",
      "5687/5687 [==============================] - 3s 498us/step - loss: 0.0276 - accuracy: 0.9898 - val_loss: 0.0455 - val_accuracy: 0.9891\n",
      "Epoch 32/50\n",
      "5687/5687 [==============================] - 3s 504us/step - loss: 0.0270 - accuracy: 0.9903 - val_loss: 0.0189 - val_accuracy: 0.9955\n",
      "Epoch 33/50\n",
      "5687/5687 [==============================] - 3s 498us/step - loss: 0.0264 - accuracy: 0.9903 - val_loss: 0.0385 - val_accuracy: 0.9878\n",
      "Epoch 34/50\n",
      "5687/5687 [==============================] - 3s 498us/step - loss: 0.0259 - accuracy: 0.9906 - val_loss: 0.0113 - val_accuracy: 0.9989\n",
      "Epoch 35/50\n",
      "5687/5687 [==============================] - 3s 499us/step - loss: 0.0258 - accuracy: 0.9906 - val_loss: 0.0259 - val_accuracy: 0.9883\n",
      "Epoch 36/50\n",
      "5687/5687 [==============================] - 3s 488us/step - loss: 0.0256 - accuracy: 0.9909 - val_loss: 0.0271 - val_accuracy: 0.9917\n",
      "Epoch 37/50\n",
      "5687/5687 [==============================] - 3s 507us/step - loss: 0.0243 - accuracy: 0.9912 - val_loss: 0.0322 - val_accuracy: 0.9875\n",
      "Epoch 38/50\n",
      "5687/5687 [==============================] - 3s 521us/step - loss: 0.0233 - accuracy: 0.9916 - val_loss: 0.1477 - val_accuracy: 0.9428\n",
      "Epoch 39/50\n",
      "5687/5687 [==============================] - 3s 515us/step - loss: 0.0237 - accuracy: 0.9915 - val_loss: 0.0252 - val_accuracy: 0.9903\n",
      "Epoch 40/50\n",
      "5687/5687 [==============================] - 3s 515us/step - loss: 0.0232 - accuracy: 0.9917 - val_loss: 0.0983 - val_accuracy: 0.9619\n",
      "Epoch 41/50\n",
      "5687/5687 [==============================] - 3s 512us/step - loss: 0.0226 - accuracy: 0.9921 - val_loss: 0.1262 - val_accuracy: 0.9454\n",
      "Epoch 42/50\n",
      "5687/5687 [==============================] - 3s 511us/step - loss: 0.0222 - accuracy: 0.9921 - val_loss: 0.0084 - val_accuracy: 0.9987\n",
      "Epoch 43/50\n",
      "5687/5687 [==============================] - 3s 535us/step - loss: 0.0217 - accuracy: 0.9925 - val_loss: 0.0077 - val_accuracy: 0.9996\n",
      "Epoch 44/50\n",
      "5687/5687 [==============================] - 3s 501us/step - loss: 0.0205 - accuracy: 0.9928 - val_loss: 0.0161 - val_accuracy: 0.9985\n",
      "Epoch 45/50\n",
      "5687/5687 [==============================] - 3s 497us/step - loss: 0.0208 - accuracy: 0.9927 - val_loss: 0.0346 - val_accuracy: 0.9891\n",
      "Epoch 46/50\n",
      "5687/5687 [==============================] - 3s 499us/step - loss: 0.0207 - accuracy: 0.9926 - val_loss: 0.0179 - val_accuracy: 0.9951\n",
      "Epoch 47/50\n",
      "5687/5687 [==============================] - 3s 551us/step - loss: 0.0202 - accuracy: 0.9930 - val_loss: 0.0088 - val_accuracy: 0.9997\n",
      "Epoch 48/50\n",
      "5687/5687 [==============================] - 3s 516us/step - loss: 0.0194 - accuracy: 0.9932 - val_loss: 0.0071 - val_accuracy: 0.9982\n",
      "Epoch 49/50\n",
      "5687/5687 [==============================] - 3s 483us/step - loss: 0.0196 - accuracy: 0.9934 - val_loss: 0.0098 - val_accuracy: 0.9985\n",
      "Epoch 50/50\n",
      "5687/5687 [==============================] - 3s 480us/step - loss: 0.0194 - accuracy: 0.9931 - val_loss: 0.0213 - val_accuracy: 0.9934\n"
     ]
    }
   ],
   "source": [
    "history = model_ANN.fit(X_train, y_train, epochs=50, batch_size=64, validation_split=0.2)"
   ]
  },
  {
   "cell_type": "code",
   "execution_count": 33,
   "metadata": {
    "execution": {
     "iopub.execute_input": "2024-05-25T10:17:57.766509Z",
     "iopub.status.busy": "2024-05-25T10:17:57.766120Z",
     "iopub.status.idle": "2024-05-25T10:18:03.452632Z",
     "shell.execute_reply": "2024-05-25T10:18:03.451415Z",
     "shell.execute_reply.started": "2024-05-25T10:17:57.766479Z"
    }
   },
   "outputs": [
    {
     "name": "stdout",
     "output_type": "stream",
     "text": [
      "3554/3554 [==============================] - 1s 244us/step\n"
     ]
    }
   ],
   "source": [
    "y_pred = model_ANN.predict(X_test)\n",
    "y_pred = (y_pred > 0.5)"
   ]
  },
  {
   "cell_type": "code",
   "execution_count": 34,
   "metadata": {
    "execution": {
     "iopub.execute_input": "2024-05-25T10:18:14.290952Z",
     "iopub.status.busy": "2024-05-25T10:18:14.290523Z",
     "iopub.status.idle": "2024-05-25T10:18:14.468915Z",
     "shell.execute_reply": "2024-05-25T10:18:14.467903Z",
     "shell.execute_reply.started": "2024-05-25T10:18:14.290916Z"
    }
   },
   "outputs": [
    {
     "data": {
      "text/plain": [
       "'              precision    recall  f1-score   support\\n\\n       False       0.99      0.89      0.94     63682\\n        True       0.87      0.99      0.93     50046\\n\\n    accuracy                           0.93    113728\\n   macro avg       0.93      0.94      0.93    113728\\nweighted avg       0.94      0.93      0.93    113728\\n'"
      ]
     },
     "execution_count": 34,
     "metadata": {},
     "output_type": "execute_result"
    }
   ],
   "source": [
    "classification_report(y_pred,y_test)"
   ]
  },
  {
   "cell_type": "code",
   "execution_count": 35,
   "metadata": {
    "execution": {
     "iopub.execute_input": "2024-05-25T10:18:20.241560Z",
     "iopub.status.busy": "2024-05-25T10:18:20.241148Z",
     "iopub.status.idle": "2024-05-25T10:18:20.496348Z",
     "shell.execute_reply": "2024-05-25T10:18:20.495107Z",
     "shell.execute_reply.started": "2024-05-25T10:18:20.241528Z"
    }
   },
   "outputs": [
    {
     "data": {
      "image/png": "[encoded data removed]",
      "text/plain": [
       "<Figure size 640x480 with 2 Axes>"
      ]
     },
     "metadata": {},
     "output_type": "display_data"
    }
   ],
   "source": [
    "cm = confusion_matrix(y_test,y_pred)\n",
    "sns.heatmap(cm, annot=True)\n",
    "plt.show()"
   ]
  },
  {
   "cell_type": "code",
   "execution_count": 36,
   "metadata": {
    "execution": {
     "iopub.execute_input": "2024-05-26T18:40:45.313447Z",
     "iopub.status.busy": "2024-05-26T18:40:45.312952Z",
     "iopub.status.idle": "2024-05-26T18:40:47.563747Z",
     "shell.execute_reply": "2024-05-26T18:40:47.562600Z",
     "shell.execute_reply.started": "2024-05-26T18:40:45.313410Z"
    }
   },
   "outputs": [],
   "source": [
    "kmeans = KMeans(n_clusters = 2, init = 'k-means++', max_iter = 300, n_init = 10, random_state = 42)\n",
    "y_kmeans = kmeans.fit_predict(X)"
   ]
  },
  {
   "cell_type": "code",
   "execution_count": 37,
   "metadata": {
    "execution": {
     "iopub.execute_input": "2024-05-26T18:40:50.694331Z",
     "iopub.status.busy": "2024-05-26T18:40:50.693896Z",
     "iopub.status.idle": "2024-05-26T18:40:50.704200Z",
     "shell.execute_reply": "2024-05-26T18:40:50.702702Z",
     "shell.execute_reply.started": "2024-05-26T18:40:50.694298Z"
    }
   },
   "outputs": [
    {
     "data": {
      "text/plain": [
       "array([[0.00000000e+00, 9.35192337e-01, 7.66490419e-01, ...,\n",
       "        4.18976135e-01, 3.12696634e-01, 5.82379309e-03],\n",
       "       [0.00000000e+00, 9.78541955e-01, 7.70066651e-01, ...,\n",
       "        4.16345145e-01, 3.13422663e-01, 1.04705276e-04],\n",
       "       [5.78730497e-06, 9.35217023e-01, 7.53117667e-01, ...,\n",
       "        4.15489266e-01, 3.11911316e-01, 1.47389219e-02],\n",
       "       ...,\n",
       "       [9.99976851e-01, 9.90904812e-01, 7.64079694e-01, ...,\n",
       "        4.16593177e-01, 3.12584864e-01, 2.64215395e-03],\n",
       "       [9.99976851e-01, 9.54208999e-01, 7.72855742e-01, ...,\n",
       "        4.18519535e-01, 3.15245157e-01, 3.89238944e-04],\n",
       "       [1.00000000e+00, 9.49231759e-01, 7.65256401e-01, ...,\n",
       "        4.16466371e-01, 3.13400843e-01, 8.44648509e-03]])"
      ]
     },
     "execution_count": 37,
     "metadata": {},
     "output_type": "execute_result"
    }
   ],
   "source": [
    "X"
   ]
  },
  {
   "cell_type": "code",
   "execution_count": 38,
   "metadata": {
    "execution": {
     "iopub.execute_input": "2024-05-26T18:41:57.304560Z",
     "iopub.status.busy": "2024-05-26T18:41:57.304122Z",
     "iopub.status.idle": "2024-05-26T18:42:14.021677Z",
     "shell.execute_reply": "2024-05-26T18:42:14.020325Z",
     "shell.execute_reply.started": "2024-05-26T18:41:57.304527Z"
    }
   },
   "outputs": [
    {
     "data": {
      "text/plain": [
       "<matplotlib.legend.Legend at 0x30b8dc460>"
      ]
     },
     "execution_count": 38,
     "metadata": {},
     "output_type": "execute_result"
    },
    {
     "data": {
      "image/png": "[encoded data removed]",
      "text/plain": [
       "<Figure size 640x480 with 1 Axes>"
      ]
     },
     "metadata": {},
     "output_type": "display_data"
    }
   ],
   "source": [
    "plt.scatter(X[y_kmeans == 0, 0], X[y_kmeans == 0, 1], \n",
    "            s = 100, c = 'red', label = 'non-Fraud')\n",
    "plt.scatter(X[y_kmeans == 1, 0], X[y_kmeans == 1, 1], \n",
    "            s = 100, c = 'blue', label = 'Fraud')\n",
    "\n",
    "# Plotting the centroids of the clusters\n",
    "plt.scatter(kmeans.cluster_centers_[:, 0], kmeans.cluster_centers_[:,1], \n",
    "            s = 100, c = 'yellow', label = 'Centroids')\n",
    "\n",
    "plt.legend()"
   ]
  }
 ],
 "metadata": {
  "kaggle": {
   "accelerator": "none",
   "dataSources": [
    {
     "datasetId": 310,
     "sourceId": 23498,
     "sourceType": "datasetVersion"
    }
   ],
   "dockerImageVersionId": 30698,
   "isGpuEnabled": false,
   "isInternetEnabled": true,
   "language": "python",
   "sourceType": "notebook"
  },
  "kernelspec": {
   "display_name": "Python 3 (ipykernel)",
   "language": "python",
   "name": "python3"
  },
  "language_info": {
   "codemirror_mode": {
    "name": "ipython",
    "version": 3
   },
   "file_extension": ".py",
   "mimetype": "text/x-python",
   "name": "python",
   "nbconvert_exporter": "python",
   "pygments_lexer": "ipython3",
   "version": "3.10.9"
  }
 },
 "nbformat": 4,
 "nbformat_minor": 4
}
